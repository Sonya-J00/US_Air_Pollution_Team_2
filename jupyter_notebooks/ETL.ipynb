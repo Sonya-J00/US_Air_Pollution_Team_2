{
  "cells": [
    {
      "cell_type": "markdown",
      "metadata": {
        "id": "0aStgWSO0E0E"
      },
      "source": [
        "# **(ADD THE NOTEBOOK NAME HERE)**"
      ]
    },
    {
      "cell_type": "markdown",
      "metadata": {
        "id": "1eLEkw5O0ECa"
      },
      "source": [
        "## Objectives\n",
        "\n",
        "* Write your notebook objective here, for example, \"Fetch data from Kaggle and save as raw data\", or \"engineer features for modelling\"\n",
        "\n",
        "## Inputs\n",
        "\n",
        "* Write down which data or information you need to run the notebook \n",
        "\n",
        "## Outputs\n",
        "\n",
        "* Write here which files, code or artefacts you generate by the end of the notebook \n",
        "\n",
        "## Additional Comments\n",
        "\n",
        "* If you have any additional comments that don't fit in the previous bullets, please state them here. \n",
        "\n"
      ]
    },
    {
      "cell_type": "markdown",
      "metadata": {
        "id": "9uWZXH9LwoQg"
      },
      "source": [
        "---"
      ]
    },
    {
      "cell_type": "markdown",
      "metadata": {
        "id": "cqP-UeN-z3i2"
      },
      "source": [
        "# Change working directory"
      ]
    },
    {
      "cell_type": "markdown",
      "metadata": {},
      "source": [
        "* We are assuming you will store the notebooks in a subfolder, therefore when running the notebook in the editor, you will need to change the working directory"
      ]
    },
    {
      "cell_type": "markdown",
      "metadata": {
        "id": "aOGIGS-uz3i2"
      },
      "source": [
        "We need to change the working directory from its current folder to its parent folder\n",
        "* We access the current directory with os.getcwd()"
      ]
    },
    {
      "cell_type": "code",
      "execution_count": 1,
      "metadata": {
        "id": "wZfF_j-Bz3i4",
        "outputId": "66943449-1436-4c3d-85c7-b85f9f78349b"
      },
      "outputs": [
        {
          "data": {
            "text/plain": [
              "'c:\\\\Users\\\\ngubo\\\\Documents\\\\vscode-projects\\\\US_Air_Pollution_Team_2\\\\jupyter_notebooks'"
            ]
          },
          "execution_count": 1,
          "metadata": {},
          "output_type": "execute_result"
        }
      ],
      "source": [
        "import os\n",
        "current_dir = os.getcwd()\n",
        "current_dir"
      ]
    },
    {
      "cell_type": "markdown",
      "metadata": {
        "id": "9MWW8E7lz3i7"
      },
      "source": [
        "We want to make the parent of the current directory the new current directory\n",
        "* os.path.dirname() gets the parent directory\n",
        "* os.chir() defines the new current directory"
      ]
    },
    {
      "cell_type": "code",
      "execution_count": 2,
      "metadata": {
        "id": "TwHsQRWjz3i9",
        "outputId": "86849db3-cd2f-4cc5-ebb8-2d0caafa1a2c"
      },
      "outputs": [
        {
          "name": "stdout",
          "output_type": "stream",
          "text": [
            "You set a new current directory\n"
          ]
        }
      ],
      "source": [
        "os.chdir(os.path.dirname(current_dir))\n",
        "print(\"You set a new current directory\")"
      ]
    },
    {
      "cell_type": "markdown",
      "metadata": {
        "id": "M_xPk_Ijz3i-"
      },
      "source": [
        "Confirm the new current directory"
      ]
    },
    {
      "cell_type": "code",
      "execution_count": 3,
      "metadata": {
        "id": "vz3S-_kjz3jA",
        "outputId": "00b79ae4-75d0-4a96-d193-ac9ef9847ea2"
      },
      "outputs": [
        {
          "data": {
            "text/plain": [
              "'c:\\\\Users\\\\ngubo\\\\Documents\\\\vscode-projects\\\\US_Air_Pollution_Team_2'"
            ]
          },
          "execution_count": 3,
          "metadata": {},
          "output_type": "execute_result"
        }
      ],
      "source": [
        "current_dir = os.getcwd()\n",
        "current_dir"
      ]
    },
    {
      "cell_type": "markdown",
      "metadata": {
        "id": "-mavJ8DibrcQ"
      },
      "source": [
        "# Section 1"
      ]
    },
    {
      "cell_type": "markdown",
      "metadata": {},
      "source": [
        "Section 1 content"
      ]
    },
    {
      "cell_type": "markdown",
      "metadata": {},
      "source": [
        "Importing libraries and Converting CSV to a Dataframe"
      ]
    },
    {
      "cell_type": "code",
      "execution_count": 4,
      "metadata": {},
      "outputs": [
        {
          "data": {
            "text/html": [
              "<div>\n",
              "<style scoped>\n",
              "    .dataframe tbody tr th:only-of-type {\n",
              "        vertical-align: middle;\n",
              "    }\n",
              "\n",
              "    .dataframe tbody tr th {\n",
              "        vertical-align: top;\n",
              "    }\n",
              "\n",
              "    .dataframe thead th {\n",
              "        text-align: right;\n",
              "    }\n",
              "</style>\n",
              "<table border=\"1\" class=\"dataframe\">\n",
              "  <thead>\n",
              "    <tr style=\"text-align: right;\">\n",
              "      <th></th>\n",
              "      <th>Unnamed: 0</th>\n",
              "      <th>State Code</th>\n",
              "      <th>County Code</th>\n",
              "      <th>Site Num</th>\n",
              "      <th>Address</th>\n",
              "      <th>State</th>\n",
              "      <th>County</th>\n",
              "      <th>City</th>\n",
              "      <th>Date Local</th>\n",
              "      <th>NO2 Units</th>\n",
              "      <th>...</th>\n",
              "      <th>SO2 Units</th>\n",
              "      <th>SO2 Mean</th>\n",
              "      <th>SO2 1st Max Value</th>\n",
              "      <th>SO2 1st Max Hour</th>\n",
              "      <th>SO2 AQI</th>\n",
              "      <th>CO Units</th>\n",
              "      <th>CO Mean</th>\n",
              "      <th>CO 1st Max Value</th>\n",
              "      <th>CO 1st Max Hour</th>\n",
              "      <th>CO AQI</th>\n",
              "    </tr>\n",
              "  </thead>\n",
              "  <tbody>\n",
              "    <tr>\n",
              "      <th>0</th>\n",
              "      <td>0</td>\n",
              "      <td>4</td>\n",
              "      <td>13</td>\n",
              "      <td>3002</td>\n",
              "      <td>1645 E ROOSEVELT ST-CENTRAL PHOENIX STN</td>\n",
              "      <td>Arizona</td>\n",
              "      <td>Maricopa</td>\n",
              "      <td>Phoenix</td>\n",
              "      <td>2000-01-01</td>\n",
              "      <td>Parts per billion</td>\n",
              "      <td>...</td>\n",
              "      <td>Parts per billion</td>\n",
              "      <td>3.000000</td>\n",
              "      <td>9.0</td>\n",
              "      <td>21</td>\n",
              "      <td>13.0</td>\n",
              "      <td>Parts per million</td>\n",
              "      <td>1.145833</td>\n",
              "      <td>4.2</td>\n",
              "      <td>21</td>\n",
              "      <td>NaN</td>\n",
              "    </tr>\n",
              "    <tr>\n",
              "      <th>1</th>\n",
              "      <td>1</td>\n",
              "      <td>4</td>\n",
              "      <td>13</td>\n",
              "      <td>3002</td>\n",
              "      <td>1645 E ROOSEVELT ST-CENTRAL PHOENIX STN</td>\n",
              "      <td>Arizona</td>\n",
              "      <td>Maricopa</td>\n",
              "      <td>Phoenix</td>\n",
              "      <td>2000-01-01</td>\n",
              "      <td>Parts per billion</td>\n",
              "      <td>...</td>\n",
              "      <td>Parts per billion</td>\n",
              "      <td>3.000000</td>\n",
              "      <td>9.0</td>\n",
              "      <td>21</td>\n",
              "      <td>13.0</td>\n",
              "      <td>Parts per million</td>\n",
              "      <td>0.878947</td>\n",
              "      <td>2.2</td>\n",
              "      <td>23</td>\n",
              "      <td>25.0</td>\n",
              "    </tr>\n",
              "    <tr>\n",
              "      <th>2</th>\n",
              "      <td>2</td>\n",
              "      <td>4</td>\n",
              "      <td>13</td>\n",
              "      <td>3002</td>\n",
              "      <td>1645 E ROOSEVELT ST-CENTRAL PHOENIX STN</td>\n",
              "      <td>Arizona</td>\n",
              "      <td>Maricopa</td>\n",
              "      <td>Phoenix</td>\n",
              "      <td>2000-01-01</td>\n",
              "      <td>Parts per billion</td>\n",
              "      <td>...</td>\n",
              "      <td>Parts per billion</td>\n",
              "      <td>2.975000</td>\n",
              "      <td>6.6</td>\n",
              "      <td>23</td>\n",
              "      <td>NaN</td>\n",
              "      <td>Parts per million</td>\n",
              "      <td>1.145833</td>\n",
              "      <td>4.2</td>\n",
              "      <td>21</td>\n",
              "      <td>NaN</td>\n",
              "    </tr>\n",
              "    <tr>\n",
              "      <th>3</th>\n",
              "      <td>3</td>\n",
              "      <td>4</td>\n",
              "      <td>13</td>\n",
              "      <td>3002</td>\n",
              "      <td>1645 E ROOSEVELT ST-CENTRAL PHOENIX STN</td>\n",
              "      <td>Arizona</td>\n",
              "      <td>Maricopa</td>\n",
              "      <td>Phoenix</td>\n",
              "      <td>2000-01-01</td>\n",
              "      <td>Parts per billion</td>\n",
              "      <td>...</td>\n",
              "      <td>Parts per billion</td>\n",
              "      <td>2.975000</td>\n",
              "      <td>6.6</td>\n",
              "      <td>23</td>\n",
              "      <td>NaN</td>\n",
              "      <td>Parts per million</td>\n",
              "      <td>0.878947</td>\n",
              "      <td>2.2</td>\n",
              "      <td>23</td>\n",
              "      <td>25.0</td>\n",
              "    </tr>\n",
              "    <tr>\n",
              "      <th>4</th>\n",
              "      <td>4</td>\n",
              "      <td>4</td>\n",
              "      <td>13</td>\n",
              "      <td>3002</td>\n",
              "      <td>1645 E ROOSEVELT ST-CENTRAL PHOENIX STN</td>\n",
              "      <td>Arizona</td>\n",
              "      <td>Maricopa</td>\n",
              "      <td>Phoenix</td>\n",
              "      <td>2000-01-02</td>\n",
              "      <td>Parts per billion</td>\n",
              "      <td>...</td>\n",
              "      <td>Parts per billion</td>\n",
              "      <td>1.958333</td>\n",
              "      <td>3.0</td>\n",
              "      <td>22</td>\n",
              "      <td>4.0</td>\n",
              "      <td>Parts per million</td>\n",
              "      <td>0.850000</td>\n",
              "      <td>1.6</td>\n",
              "      <td>23</td>\n",
              "      <td>NaN</td>\n",
              "    </tr>\n",
              "  </tbody>\n",
              "</table>\n",
              "<p>5 rows × 29 columns</p>\n",
              "</div>"
            ],
            "text/plain": [
              "   Unnamed: 0  State Code  County Code  Site Num  \\\n",
              "0           0           4           13      3002   \n",
              "1           1           4           13      3002   \n",
              "2           2           4           13      3002   \n",
              "3           3           4           13      3002   \n",
              "4           4           4           13      3002   \n",
              "\n",
              "                                   Address    State    County     City  \\\n",
              "0  1645 E ROOSEVELT ST-CENTRAL PHOENIX STN  Arizona  Maricopa  Phoenix   \n",
              "1  1645 E ROOSEVELT ST-CENTRAL PHOENIX STN  Arizona  Maricopa  Phoenix   \n",
              "2  1645 E ROOSEVELT ST-CENTRAL PHOENIX STN  Arizona  Maricopa  Phoenix   \n",
              "3  1645 E ROOSEVELT ST-CENTRAL PHOENIX STN  Arizona  Maricopa  Phoenix   \n",
              "4  1645 E ROOSEVELT ST-CENTRAL PHOENIX STN  Arizona  Maricopa  Phoenix   \n",
              "\n",
              "   Date Local          NO2 Units  ...          SO2 Units  SO2 Mean  \\\n",
              "0  2000-01-01  Parts per billion  ...  Parts per billion  3.000000   \n",
              "1  2000-01-01  Parts per billion  ...  Parts per billion  3.000000   \n",
              "2  2000-01-01  Parts per billion  ...  Parts per billion  2.975000   \n",
              "3  2000-01-01  Parts per billion  ...  Parts per billion  2.975000   \n",
              "4  2000-01-02  Parts per billion  ...  Parts per billion  1.958333   \n",
              "\n",
              "   SO2 1st Max Value  SO2 1st Max Hour SO2 AQI           CO Units   CO Mean  \\\n",
              "0                9.0                21    13.0  Parts per million  1.145833   \n",
              "1                9.0                21    13.0  Parts per million  0.878947   \n",
              "2                6.6                23     NaN  Parts per million  1.145833   \n",
              "3                6.6                23     NaN  Parts per million  0.878947   \n",
              "4                3.0                22     4.0  Parts per million  0.850000   \n",
              "\n",
              "   CO 1st Max Value  CO 1st Max Hour CO AQI  \n",
              "0               4.2               21    NaN  \n",
              "1               2.2               23   25.0  \n",
              "2               4.2               21    NaN  \n",
              "3               2.2               23   25.0  \n",
              "4               1.6               23    NaN  \n",
              "\n",
              "[5 rows x 29 columns]"
            ]
          },
          "execution_count": 4,
          "metadata": {},
          "output_type": "execute_result"
        }
      ],
      "source": [
        "import pandas as pd\n",
        "import numpy as np\n",
        "import matplotlib.pyplot as plt\n",
        "import seaborn as sns\n",
        "\n",
        "df = pd.read_csv('Dataset/Raw/pollution_us_2000_2016.csv') # Reading the CSV file\n",
        "df.head() # Displaying the first 5 rows of the dataframe"
      ]
    },
    {
      "cell_type": "code",
      "execution_count": 5,
      "metadata": {},
      "outputs": [
        {
          "name": "stdout",
          "output_type": "stream",
          "text": [
            "<class 'pandas.core.frame.DataFrame'>\n",
            "RangeIndex: 1746661 entries, 0 to 1746660\n",
            "Data columns (total 29 columns):\n",
            " #   Column             Dtype  \n",
            "---  ------             -----  \n",
            " 0   Unnamed: 0         int64  \n",
            " 1   State Code         int64  \n",
            " 2   County Code        int64  \n",
            " 3   Site Num           int64  \n",
            " 4   Address            object \n",
            " 5   State              object \n",
            " 6   County             object \n",
            " 7   City               object \n",
            " 8   Date Local         object \n",
            " 9   NO2 Units          object \n",
            " 10  NO2 Mean           float64\n",
            " 11  NO2 1st Max Value  float64\n",
            " 12  NO2 1st Max Hour   int64  \n",
            " 13  NO2 AQI            int64  \n",
            " 14  O3 Units           object \n",
            " 15  O3 Mean            float64\n",
            " 16  O3 1st Max Value   float64\n",
            " 17  O3 1st Max Hour    int64  \n",
            " 18  O3 AQI             int64  \n",
            " 19  SO2 Units          object \n",
            " 20  SO2 Mean           float64\n",
            " 21  SO2 1st Max Value  float64\n",
            " 22  SO2 1st Max Hour   int64  \n",
            " 23  SO2 AQI            float64\n",
            " 24  CO Units           object \n",
            " 25  CO Mean            float64\n",
            " 26  CO 1st Max Value   float64\n",
            " 27  CO 1st Max Hour    int64  \n",
            " 28  CO AQI             float64\n",
            "dtypes: float64(10), int64(10), object(9)\n",
            "memory usage: 386.5+ MB\n"
          ]
        }
      ],
      "source": [
        "df.info() # Display information about the DataFrame"
      ]
    },
    {
      "cell_type": "code",
      "execution_count": 6,
      "metadata": {},
      "outputs": [
        {
          "data": {
            "text/plain": [
              "Unnamed: 0                0\n",
              "State Code                0\n",
              "County Code               0\n",
              "Site Num                  0\n",
              "Address                   0\n",
              "State                     0\n",
              "County                    0\n",
              "City                      0\n",
              "Date Local                0\n",
              "NO2 Units                 0\n",
              "NO2 Mean                  0\n",
              "NO2 1st Max Value         0\n",
              "NO2 1st Max Hour          0\n",
              "NO2 AQI                   0\n",
              "O3 Units                  0\n",
              "O3 Mean                   0\n",
              "O3 1st Max Value          0\n",
              "O3 1st Max Hour           0\n",
              "O3 AQI                    0\n",
              "SO2 Units                 0\n",
              "SO2 Mean                  0\n",
              "SO2 1st Max Value         0\n",
              "SO2 1st Max Hour          0\n",
              "SO2 AQI              872907\n",
              "CO Units                  0\n",
              "CO Mean                   0\n",
              "CO 1st Max Value          0\n",
              "CO 1st Max Hour           0\n",
              "CO AQI               873323\n",
              "dtype: int64"
            ]
          },
          "execution_count": 6,
          "metadata": {},
          "output_type": "execute_result"
        }
      ],
      "source": [
        "df.isnull().sum() # Check for missing values in each column"
      ]
    },
    {
      "cell_type": "code",
      "execution_count": 7,
      "metadata": {},
      "outputs": [
        {
          "data": {
            "text/plain": [
              "0"
            ]
          },
          "execution_count": 7,
          "metadata": {},
          "output_type": "execute_result"
        }
      ],
      "source": [
        "df.duplicated().sum() # Check for duplicate rows"
      ]
    },
    {
      "cell_type": "code",
      "execution_count": 8,
      "metadata": {},
      "outputs": [],
      "source": [
        "# drop unnecessary columns\n",
        "df.drop(columns=['Unnamed: 0'], inplace=True) # Drop the 'Unnamed: 0' column"
      ]
    },
    {
      "cell_type": "code",
      "execution_count": 9,
      "metadata": {},
      "outputs": [],
      "source": [
        "# Removes leading and trailing whitespace characters from string columns\n",
        "df['State'] = df['State'].str.strip()\n",
        "df['County'] = df['County'].str.strip()\n",
        "df['City'] = df['City'].str.strip()\n"
      ]
    },
    {
      "cell_type": "code",
      "execution_count": 10,
      "metadata": {},
      "outputs": [],
      "source": [
        "# Convert columns to appropriate data types to avoid memory issues\n",
        "df['State'] = df['State'].astype('category')\n",
        "df['County'] = df['County'].astype('category')\n",
        "df['City'] = df['City'].astype('category')\n"
      ]
    },
    {
      "cell_type": "code",
      "execution_count": 11,
      "metadata": {},
      "outputs": [],
      "source": [
        "df['Date Local'] = pd.to_datetime(df['Date Local'], errors='coerce') # Convert 'Date Local' to datetime format"
      ]
    },
    {
      "cell_type": "code",
      "execution_count": 13,
      "metadata": {},
      "outputs": [
        {
          "name": "stdout",
          "output_type": "stream",
          "text": [
            "<class 'pandas.core.frame.DataFrame'>\n",
            "RangeIndex: 1746661 entries, 0 to 1746660\n",
            "Data columns (total 28 columns):\n",
            " #   Column             Dtype         \n",
            "---  ------             -----         \n",
            " 0   State Code         int8          \n",
            " 1   County Code        int16         \n",
            " 2   Site Num           int16         \n",
            " 3   Address            object        \n",
            " 4   State              category      \n",
            " 5   County             category      \n",
            " 6   City               category      \n",
            " 7   Date Local         datetime64[ns]\n",
            " 8   NO2 Units          object        \n",
            " 9   NO2 Mean           float32       \n",
            " 10  NO2 1st Max Value  float32       \n",
            " 11  NO2 1st Max Hour   int8          \n",
            " 12  NO2 AQI            int16         \n",
            " 13  O3 Units           object        \n",
            " 14  O3 Mean            float32       \n",
            " 15  O3 1st Max Value   float32       \n",
            " 16  O3 1st Max Hour    int8          \n",
            " 17  O3 AQI             int16         \n",
            " 18  SO2 Units          object        \n",
            " 19  SO2 Mean           float32       \n",
            " 20  SO2 1st Max Value  float32       \n",
            " 21  SO2 1st Max Hour   int8          \n",
            " 22  SO2 AQI            float32       \n",
            " 23  CO Units           object        \n",
            " 24  CO Mean            float32       \n",
            " 25  CO 1st Max Value   float32       \n",
            " 26  CO 1st Max Hour    int8          \n",
            " 27  CO AQI             float32       \n",
            "dtypes: category(3), datetime64[ns](1), float32(10), int16(4), int8(5), object(5)\n",
            "memory usage: 675.6 MB\n",
            "None\n"
          ]
        }
      ],
      "source": [
        "# Convert numerical columns to more memory-efficient types\n",
        "for col in df.select_dtypes(include='float64').columns:\n",
        "    df[col] = pd.to_numeric(df[col], downcast='float')\n",
        "for col in df.select_dtypes(include='int64').columns:\n",
        "    df[col] = pd.to_numeric(df[col], downcast='integer')\n",
        "\n",
        "print(df.info(memory_usage='deep')) # Display updated information about the DataFrame\n",
        "\n"
      ]
    },
    {
      "cell_type": "code",
      "execution_count": 14,
      "metadata": {},
      "outputs": [
        {
          "name": "stdout",
          "output_type": "stream",
          "text": [
            "NO2 Mean         0\n",
            "O3 Mean          0\n",
            "SO2 Mean         0\n",
            "CO Mean          0\n",
            "NO2 AQI          0\n",
            "O3 AQI           0\n",
            "SO2 AQI     872907\n",
            "CO AQI      873323\n",
            "dtype: int64\n"
          ]
        }
      ],
      "source": [
        "# Check for missing values in critical columns\n",
        "critical_cols = ['NO2 Mean', 'O3 Mean', 'SO2 Mean', 'CO Mean', 'NO2 AQI', 'O3 AQI', 'SO2 AQI', 'CO AQI']\n",
        "nan_counts = df[critical_cols].isnull().sum()\n",
        "print(nan_counts)\n"
      ]
    },
    {
      "cell_type": "code",
      "execution_count": 15,
      "metadata": {},
      "outputs": [],
      "source": [
        "df = df.dropna() # Remove rows containing NaN values"
      ]
    },
    {
      "cell_type": "code",
      "execution_count": 16,
      "metadata": {},
      "outputs": [
        {
          "name": "stdout",
          "output_type": "stream",
          "text": [
            "2012-01-01 00:00:00 2016-05-31 00:00:00\n"
          ]
        }
      ],
      "source": [
        "# Keep only rows where date is between Jan 1, 2012 and Dec 31, 2016\n",
        "df = df[(df['Date Local'] >= '2012-01-01') & (df['Date Local'] <= '2016-12-31')]\n",
        "\n",
        "# confirm date range\n",
        "print(df['Date Local'].min(), df['Date Local'].max())\n"
      ]
    },
    {
      "cell_type": "code",
      "execution_count": 17,
      "metadata": {},
      "outputs": [
        {
          "name": "stdout",
          "output_type": "stream",
          "text": [
            "<class 'pandas.core.frame.DataFrame'>\n",
            "Index: 136334 entries, 1201631 to 1746658\n",
            "Data columns (total 28 columns):\n",
            " #   Column             Non-Null Count   Dtype         \n",
            "---  ------             --------------   -----         \n",
            " 0   State Code         136334 non-null  int8          \n",
            " 1   County Code        136334 non-null  int16         \n",
            " 2   Site Num           136334 non-null  int16         \n",
            " 3   Address            136334 non-null  object        \n",
            " 4   State              136334 non-null  category      \n",
            " 5   County             136334 non-null  category      \n",
            " 6   City               136334 non-null  category      \n",
            " 7   Date Local         136334 non-null  datetime64[ns]\n",
            " 8   NO2 Units          136334 non-null  object        \n",
            " 9   NO2 Mean           136334 non-null  float32       \n",
            " 10  NO2 1st Max Value  136334 non-null  float32       \n",
            " 11  NO2 1st Max Hour   136334 non-null  int8          \n",
            " 12  NO2 AQI            136334 non-null  int16         \n",
            " 13  O3 Units           136334 non-null  object        \n",
            " 14  O3 Mean            136334 non-null  float32       \n",
            " 15  O3 1st Max Value   136334 non-null  float32       \n",
            " 16  O3 1st Max Hour    136334 non-null  int8          \n",
            " 17  O3 AQI             136334 non-null  int16         \n",
            " 18  SO2 Units          136334 non-null  object        \n",
            " 19  SO2 Mean           136334 non-null  float32       \n",
            " 20  SO2 1st Max Value  136334 non-null  float32       \n",
            " 21  SO2 1st Max Hour   136334 non-null  int8          \n",
            " 22  SO2 AQI            136334 non-null  float32       \n",
            " 23  CO Units           136334 non-null  object        \n",
            " 24  CO Mean            136334 non-null  float32       \n",
            " 25  CO 1st Max Value   136334 non-null  float32       \n",
            " 26  CO 1st Max Hour    136334 non-null  int8          \n",
            " 27  CO AQI             136334 non-null  float32       \n",
            "dtypes: category(3), datetime64[ns](1), float32(10), int16(4), int8(5), object(5)\n",
            "memory usage: 14.8+ MB\n"
          ]
        }
      ],
      "source": [
        "df.info() # Final check of the DataFrame information"
      ]
    },
    {
      "cell_type": "code",
      "execution_count": 19,
      "metadata": {},
      "outputs": [],
      "source": [
        "df.to_csv('Dataset/Processed/pollution_us_2012_2016-cleaned.csv', index=False) # Save the cleaned DataFrame to a new CSV file"
      ]
    },
    {
      "cell_type": "markdown",
      "metadata": {
        "id": "ZY3l0-AxO93d"
      },
      "source": [
        "---"
      ]
    },
    {
      "cell_type": "markdown",
      "metadata": {
        "id": "uFQo3ycuO-v6"
      },
      "source": [
        "# Section 2"
      ]
    },
    {
      "cell_type": "markdown",
      "metadata": {},
      "source": [
        "Section 2 content"
      ]
    },
    {
      "cell_type": "code",
      "execution_count": null,
      "metadata": {},
      "outputs": [],
      "source": []
    },
    {
      "cell_type": "markdown",
      "metadata": {},
      "source": [
        "---"
      ]
    },
    {
      "cell_type": "markdown",
      "metadata": {},
      "source": [
        "NOTE"
      ]
    },
    {
      "cell_type": "markdown",
      "metadata": {},
      "source": [
        "* You may add as many sections as you want, as long as it supports your project workflow.\n",
        "* All notebook's cells should be run top-down (you can't create a dynamic wherein a given point you need to go back to a previous cell to execute some task, like go back to a previous cell and refresh a variable content)"
      ]
    },
    {
      "cell_type": "markdown",
      "metadata": {},
      "source": [
        "---"
      ]
    },
    {
      "cell_type": "markdown",
      "metadata": {
        "id": "ltNetd085qHf"
      },
      "source": [
        "# Push files to Repo"
      ]
    },
    {
      "cell_type": "markdown",
      "metadata": {},
      "source": [
        "* In cases where you don't need to push files to Repo, you may replace this section with \"Conclusions and Next Steps\" and state your conclusions and next steps."
      ]
    },
    {
      "cell_type": "code",
      "execution_count": null,
      "metadata": {
        "id": "aKlnIozA4eQO",
        "outputId": "fd09bc1f-adb1-4511-f6ce-492a6af570c0"
      },
      "outputs": [
        {
          "ename": "IndentationError",
          "evalue": "expected an indented block after 'try' statement on line 2 (553063055.py, line 5)",
          "output_type": "error",
          "traceback": [
            "  \u001b[36mCell\u001b[39m\u001b[36m \u001b[39m\u001b[32mIn[5]\u001b[39m\u001b[32m, line 5\u001b[39m\n\u001b[31m    \u001b[39m\u001b[31mexcept Exception as e:\u001b[39m\n    ^\n\u001b[31mIndentationError\u001b[39m\u001b[31m:\u001b[39m expected an indented block after 'try' statement on line 2\n"
          ]
        }
      ],
      "source": [
        "import os\n",
        "try:\n",
        "  # create your folder here\n",
        "  # os.makedirs(name='')\n",
        "except Exception as e:\n",
        "  print(e)\n"
      ]
    }
  ],
  "metadata": {
    "accelerator": "GPU",
    "colab": {
      "name": "Data Practitioner Jupyter Notebook.ipynb",
      "provenance": [],
      "toc_visible": true
    },
    "kernelspec": {
      "display_name": ".venv",
      "language": "python",
      "name": "python3"
    },
    "language_info": {
      "codemirror_mode": {
        "name": "ipython",
        "version": 3
      },
      "file_extension": ".py",
      "mimetype": "text/x-python",
      "name": "python",
      "nbconvert_exporter": "python",
      "pygments_lexer": "ipython3",
      "version": "3.12.8"
    },
    "orig_nbformat": 2
  },
  "nbformat": 4,
  "nbformat_minor": 2
}
